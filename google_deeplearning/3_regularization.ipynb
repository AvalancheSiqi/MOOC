{
 "cells": [
  {
   "cell_type": "markdown",
   "metadata": {
    "colab_type": "text",
    "id": "kR-4eNdK6lYS"
   },
   "source": [
    "Deep Learning\n",
    "=============\n",
    "\n",
    "Assignment 3\n",
    "------------\n",
    "\n",
    "Previously in `2_fullyconnected.ipynb`, you trained a logistic regression and a neural network model.\n",
    "\n",
    "The goal of this assignment is to explore regularization techniques."
   ]
  },
  {
   "cell_type": "code",
   "execution_count": 1,
   "metadata": {
    "cellView": "both",
    "colab": {
     "autoexec": {
      "startup": false,
      "wait_interval": 0
     }
    },
    "colab_type": "code",
    "collapsed": true,
    "id": "JLpLa8Jt7Vu4"
   },
   "outputs": [],
   "source": [
    "# These are all the modules we'll be using later. Make sure you can import them\n",
    "# before proceeding further.\n",
    "from __future__ import print_function\n",
    "import numpy as np\n",
    "import tensorflow as tf\n",
    "from six.moves import cPickle as pickle"
   ]
  },
  {
   "cell_type": "markdown",
   "metadata": {
    "colab_type": "text",
    "id": "1HrCK6e17WzV"
   },
   "source": [
    "First reload the data we generated in _notmist.ipynb_."
   ]
  },
  {
   "cell_type": "code",
   "execution_count": 2,
   "metadata": {
    "cellView": "both",
    "colab": {
     "autoexec": {
      "startup": false,
      "wait_interval": 0
     },
     "output_extras": [
      {
       "item_id": 1
      }
     ]
    },
    "colab_type": "code",
    "collapsed": false,
    "executionInfo": {
     "elapsed": 11777,
     "status": "ok",
     "timestamp": 1449849322348,
     "user": {
      "color": "",
      "displayName": "",
      "isAnonymous": false,
      "isMe": true,
      "permissionId": "",
      "photoUrl": "",
      "sessionId": "0",
      "userId": ""
     },
     "user_tz": 480
    },
    "id": "y3-cj1bpmuxc",
    "outputId": "e03576f1-ebbe-4838-c388-f1777bcc9873"
   },
   "outputs": [
    {
     "name": "stdout",
     "output_type": "stream",
     "text": [
      "Training set (200000, 28, 28) (200000,)\n",
      "Validation set (10000, 28, 28) (10000,)\n",
      "Test set (10000, 28, 28) (10000,)\n"
     ]
    }
   ],
   "source": [
    "pickle_file = 'notMNIST.pickle'\n",
    "\n",
    "with open(pickle_file, 'rb') as f:\n",
    "  save = pickle.load(f)\n",
    "  train_dataset = save['train_dataset']\n",
    "  train_labels = save['train_labels']\n",
    "  valid_dataset = save['valid_dataset']\n",
    "  valid_labels = save['valid_labels']\n",
    "  test_dataset = save['test_dataset']\n",
    "  test_labels = save['test_labels']\n",
    "  del save  # hint to help gc free up memory\n",
    "  print('Training set', train_dataset.shape, train_labels.shape)\n",
    "  print('Validation set', valid_dataset.shape, valid_labels.shape)\n",
    "  print('Test set', test_dataset.shape, test_labels.shape)"
   ]
  },
  {
   "cell_type": "markdown",
   "metadata": {
    "colab_type": "text",
    "id": "L7aHrm6nGDMB"
   },
   "source": [
    "Reformat into a shape that's more adapted to the models we're going to train:\n",
    "- data as a flat matrix,\n",
    "- labels as float 1-hot encodings."
   ]
  },
  {
   "cell_type": "code",
   "execution_count": 3,
   "metadata": {
    "cellView": "both",
    "colab": {
     "autoexec": {
      "startup": false,
      "wait_interval": 0
     },
     "output_extras": [
      {
       "item_id": 1
      }
     ]
    },
    "colab_type": "code",
    "collapsed": false,
    "executionInfo": {
     "elapsed": 11728,
     "status": "ok",
     "timestamp": 1449849322356,
     "user": {
      "color": "",
      "displayName": "",
      "isAnonymous": false,
      "isMe": true,
      "permissionId": "",
      "photoUrl": "",
      "sessionId": "0",
      "userId": ""
     },
     "user_tz": 480
    },
    "id": "IRSyYiIIGIzS",
    "outputId": "3f8996ee-3574-4f44-c953-5c8a04636582"
   },
   "outputs": [
    {
     "name": "stdout",
     "output_type": "stream",
     "text": [
      "Training set (200000, 784) (200000, 10)\n",
      "Validation set (10000, 784) (10000, 10)\n",
      "Test set (10000, 784) (10000, 10)\n"
     ]
    }
   ],
   "source": [
    "image_size = 28\n",
    "num_labels = 10\n",
    "\n",
    "def reformat(dataset, labels):\n",
    "  dataset = dataset.reshape((-1, image_size * image_size)).astype(np.float32)\n",
    "  # Map 1 to [0.0, 1.0, 0.0 ...], 2 to [0.0, 0.0, 1.0 ...]\n",
    "  labels = (np.arange(num_labels) == labels[:,None]).astype(np.float32)\n",
    "  return dataset, labels\n",
    "\n",
    "train_dataset, train_labels = reformat(train_dataset, train_labels)\n",
    "valid_dataset, valid_labels = reformat(valid_dataset, valid_labels)\n",
    "test_dataset, test_labels = reformat(test_dataset, test_labels)\n",
    "print('Training set', train_dataset.shape, train_labels.shape)\n",
    "print('Validation set', valid_dataset.shape, valid_labels.shape)\n",
    "print('Test set', test_dataset.shape, test_labels.shape)"
   ]
  },
  {
   "cell_type": "code",
   "execution_count": 4,
   "metadata": {
    "cellView": "both",
    "colab": {
     "autoexec": {
      "startup": false,
      "wait_interval": 0
     }
    },
    "colab_type": "code",
    "collapsed": true,
    "id": "RajPLaL_ZW6w"
   },
   "outputs": [],
   "source": [
    "def accuracy(predictions, labels):\n",
    "  return (100.0 * np.sum(np.argmax(predictions, 1) == np.argmax(labels, 1))\n",
    "          / predictions.shape[0])"
   ]
  },
  {
   "cell_type": "markdown",
   "metadata": {
    "colab_type": "text",
    "id": "sgLbUAQ1CW-1"
   },
   "source": [
    "---\n",
    "Problem 1\n",
    "---------\n",
    "\n",
    "Introduce and tune L2 regularization for both logistic and neural network models. Remember that L2 amounts to adding a penalty on the norm of the weights to the loss. In TensorFlow, you can compute the L2 loss for a tensor `t` using `nn.l2_loss(t)`. The right amount of regularization should improve your validation / test accuracy.\n",
    "\n",
    "---"
   ]
  },
  {
   "cell_type": "markdown",
   "metadata": {},
   "source": [
    "Tensorflow logistic regression"
   ]
  },
  {
   "cell_type": "code",
   "execution_count": 5,
   "metadata": {
    "collapsed": false
   },
   "outputs": [],
   "source": [
    "learning_rate = 0.01\n",
    "beta = 0.01\n",
    "\n",
    "# tf Graph Input\n",
    "x = tf.placeholder(tf.float32, [None, 784]) # mnist data image of shape 28*28=784\n",
    "y = tf.placeholder(tf.float32, [None, 10]) # 0-9 digits recognition => 10 classes\n",
    "tf_train_dataset = tf.constant(train_dataset)\n",
    "tf_valid_dataset = tf.constant(valid_dataset)\n",
    "tf_test_dataset = tf.constant(test_dataset)\n",
    "\n",
    "# Set model weights\n",
    "W = tf.Variable(tf.zeros([784, 10]))\n",
    "b = tf.Variable(tf.zeros([10]))\n",
    "\n",
    "# Construct model\n",
    "pred = tf.nn.softmax(tf.matmul(x, W) + b)\n",
    "\n",
    "# Minimize error using cross entropy\n",
    "cost = tf.reduce_mean(-tf.reduce_sum(y*tf.log(pred), reduction_indices=1)) + beta*tf.nn.l2_loss(W)\n",
    "\n",
    "# Gradient Descent\n",
    "optimizer = tf.train.GradientDescentOptimizer(learning_rate).minimize(cost)\n",
    "\n",
    "# Predictions for the training, validation, and test data.\n",
    "train_prediction = tf.nn.softmax(tf.matmul(tf_train_dataset, W) + b)\n",
    "valid_prediction = tf.nn.softmax(tf.matmul(tf_valid_dataset, W) + b)\n",
    "test_prediction = tf.nn.softmax(tf.matmul(tf_test_dataset, W) + b)"
   ]
  },
  {
   "cell_type": "markdown",
   "metadata": {},
   "source": [
    "Let's run logistic regression"
   ]
  },
  {
   "cell_type": "code",
   "execution_count": 6,
   "metadata": {
    "collapsed": false
   },
   "outputs": [
    {
     "name": "stdout",
     "output_type": "stream",
     "text": [
      "Initialized\n",
      "Epoch: 0001 cost= 1.008811474\n",
      "LR Training accuracy: 78.5%\n",
      "LR Validation accuracy: 78.6%\n",
      "Epoch: 0002 cost= 0.884338915\n",
      "LR Training accuracy: 79.7%\n",
      "LR Validation accuracy: 80.1%\n",
      "Epoch: 0003 cost= 0.839709759\n",
      "LR Training accuracy: 80.4%\n",
      "LR Validation accuracy: 80.7%\n",
      "Epoch: 0004 cost= 0.816603005\n",
      "LR Training accuracy: 80.8%\n",
      "LR Validation accuracy: 81.1%\n",
      "Epoch: 0005 cost= 0.802380443\n",
      "LR Training accuracy: 81.1%\n",
      "LR Validation accuracy: 81.3%\n",
      "Epoch: 0006 cost= 0.792684853\n",
      "LR Training accuracy: 81.3%\n",
      "LR Validation accuracy: 81.5%\n",
      "Epoch: 0007 cost= 0.785617113\n",
      "LR Training accuracy: 81.5%\n",
      "LR Validation accuracy: 81.7%\n",
      "Epoch: 0008 cost= 0.780218184\n",
      "LR Training accuracy: 81.6%\n",
      "LR Validation accuracy: 81.8%\n",
      "Epoch: 0009 cost= 0.775948942\n",
      "LR Training accuracy: 81.7%\n",
      "LR Validation accuracy: 81.9%\n",
      "Epoch: 0010 cost= 0.772481918\n",
      "LR Training accuracy: 81.8%\n",
      "LR Validation accuracy: 82.0%\n",
      "Epoch: 0011 cost= 0.769606590\n",
      "LR Training accuracy: 81.9%\n",
      "LR Validation accuracy: 82.1%\n",
      "Epoch: 0012 cost= 0.767180562\n",
      "LR Training accuracy: 82.0%\n",
      "LR Validation accuracy: 82.2%\n",
      "Epoch: 0013 cost= 0.765103817\n",
      "LR Training accuracy: 82.1%\n",
      "LR Validation accuracy: 82.3%\n",
      "Epoch: 0014 cost= 0.763304234\n",
      "LR Training accuracy: 82.1%\n",
      "LR Validation accuracy: 82.3%\n",
      "Epoch: 0015 cost= 0.761728764\n",
      "LR Training accuracy: 82.2%\n",
      "LR Validation accuracy: 82.3%\n",
      "Epoch: 0016 cost= 0.760336757\n",
      "LR Training accuracy: 82.2%\n",
      "LR Validation accuracy: 82.3%\n",
      "Epoch: 0017 cost= 0.759097457\n",
      "LR Training accuracy: 82.3%\n",
      "LR Validation accuracy: 82.4%\n",
      "Epoch: 0018 cost= 0.757986307\n",
      "LR Training accuracy: 82.3%\n",
      "LR Validation accuracy: 82.5%\n",
      "Epoch: 0019 cost= 0.756984532\n",
      "LR Training accuracy: 82.3%\n",
      "LR Validation accuracy: 82.5%\n",
      "Epoch: 0020 cost= 0.756075978\n",
      "LR Training accuracy: 82.4%\n",
      "LR Validation accuracy: 82.5%\n",
      "Epoch: 0021 cost= 0.755248427\n",
      "LR Training accuracy: 82.4%\n",
      "LR Validation accuracy: 82.6%\n",
      "Epoch: 0022 cost= 0.754491091\n",
      "LR Training accuracy: 82.4%\n",
      "LR Validation accuracy: 82.6%\n",
      "Epoch: 0023 cost= 0.753795564\n",
      "LR Training accuracy: 82.5%\n",
      "LR Validation accuracy: 82.6%\n",
      "Epoch: 0024 cost= 0.753154337\n",
      "LR Training accuracy: 82.5%\n",
      "LR Validation accuracy: 82.7%\n",
      "Epoch: 0025 cost= 0.752561629\n",
      "LR Training accuracy: 82.5%\n",
      "LR Validation accuracy: 82.7%\n",
      "Test accuracy: 89.0%\n"
     ]
    }
   ],
   "source": [
    "training_epochs = 25\n",
    "batch_size = 1000\n",
    "display_step = 1\n",
    "\n",
    "with tf.Session() as session:\n",
    "  tf.initialize_all_variables().run()\n",
    "  print(\"Initialized\")\n",
    "  for epoch in range(training_epochs):\n",
    "    total_batch = int(train_dataset.shape[0]/batch_size)\n",
    "    # Loop over all batches\n",
    "    for i in range(total_batch):\n",
    "      # Generate a minibatch.\n",
    "      batch_xs = train_dataset[i*batch_size:(i+1)*batch_size, :] \n",
    "      batch_ys = train_labels[i*batch_size:(i+1)*batch_size, :]\n",
    "      # Run optimization\n",
    "      _, c = session.run([optimizer, cost], feed_dict={x: batch_xs, y: batch_ys})\n",
    "\n",
    "    # Display logs per epoch step\n",
    "    if (epoch+1) % display_step == 0:\n",
    "      print(\"Epoch:\", '%04d' % (epoch+1), \"cost=\", \"{:.9f}\".format(c))\n",
    "      print(\"LR Training accuracy: %.1f%%\" % accuracy(train_prediction.eval(), train_labels))\n",
    "      print(\"LR Validation accuracy: %.1f%%\" % accuracy(valid_prediction.eval(), valid_labels))\n",
    "  print(\"Test accuracy: %.1f%%\" % accuracy(test_prediction.eval(), test_labels))"
   ]
  },
  {
   "cell_type": "markdown",
   "metadata": {},
   "source": [
    "Tensorflow NN"
   ]
  },
  {
   "cell_type": "code",
   "execution_count": 7,
   "metadata": {
    "collapsed": false
   },
   "outputs": [],
   "source": [
    "batch_size = 128\n",
    "beta = 0.01\n",
    "\n",
    "def predict_with_hidden(dataset, weights1, biases1, weights2, biases2):\n",
    "  return tf.matmul(tf.nn.relu(tf.matmul(dataset, weights1) + biases1), weights2) + biases2\n",
    "\n",
    "graph = tf.Graph()\n",
    "with graph.as_default():\n",
    "\n",
    "  # Input data. For the training data, we use a placeholder that will be fed\n",
    "  # at run time with a training minibatch.\n",
    "  tf_train_dataset = tf.placeholder(tf.float32,\n",
    "                                    shape=(batch_size, image_size * image_size))\n",
    "  tf_train_labels = tf.placeholder(tf.float32, shape=(batch_size, num_labels))\n",
    "  tf_valid_dataset = tf.constant(valid_dataset)\n",
    "  tf_test_dataset = tf.constant(test_dataset)\n",
    "  \n",
    "  # Variables.\n",
    "  weights1 = tf.Variable(\n",
    "    tf.truncated_normal([image_size * image_size, 1024]))\n",
    "  biases1 = tf.Variable(tf.zeros([1024]))\n",
    "  weights2 = tf.Variable(\n",
    "    tf.truncated_normal([1024, num_labels]))\n",
    "  biases2 = tf.Variable(tf.zeros([num_labels]))\n",
    "  \n",
    "  # Training computation.\n",
    "  logits = predict_with_hidden(tf_train_dataset, weights1, biases1, weights2, biases2)\n",
    "  loss = tf.reduce_mean(\n",
    "        tf.nn.softmax_cross_entropy_with_logits(logits, tf_train_labels)\n",
    "    ) + beta*tf.nn.l2_loss(weights1) + beta*tf.nn.l2_loss(weights2)\n",
    "  \n",
    "  # Optimizer.\n",
    "  optimizer = tf.train.GradientDescentOptimizer(0.5).minimize(loss)\n",
    "  \n",
    "  # Predictions for the training, validation, and test data.\n",
    "  train_prediction = tf.nn.softmax(logits)\n",
    "  valid_prediction = tf.nn.softmax(\n",
    "    predict_with_hidden(tf_valid_dataset, weights1, biases1, weights2, biases2))\n",
    "  test_prediction = tf.nn.softmax(predict_with_hidden(tf_test_dataset, weights1, biases1, weights2, biases2))"
   ]
  },
  {
   "cell_type": "markdown",
   "metadata": {},
   "source": [
    "Let's run NN"
   ]
  },
  {
   "cell_type": "code",
   "execution_count": 8,
   "metadata": {
    "collapsed": false
   },
   "outputs": [
    {
     "name": "stdout",
     "output_type": "stream",
     "text": [
      "Initialized\n",
      "Minibatch loss at step 0: 3532.714111\n",
      "Minibatch accuracy: 7.0%\n",
      "Validation accuracy: 31.7%\n",
      "Minibatch loss at step 500: 21.257662\n",
      "Minibatch accuracy: 83.6%\n",
      "Validation accuracy: 84.4%\n",
      "Minibatch loss at step 1000: 1.025557\n",
      "Minibatch accuracy: 83.6%\n",
      "Validation accuracy: 83.0%\n",
      "Minibatch loss at step 1500: 0.769532\n",
      "Minibatch accuracy: 83.6%\n",
      "Validation accuracy: 83.5%\n",
      "Minibatch loss at step 2000: 0.560865\n",
      "Minibatch accuracy: 89.8%\n",
      "Validation accuracy: 83.7%\n",
      "Minibatch loss at step 2500: 0.625160\n",
      "Minibatch accuracy: 86.7%\n",
      "Validation accuracy: 83.7%\n",
      "Minibatch loss at step 3000: 0.868381\n",
      "Minibatch accuracy: 81.2%\n",
      "Validation accuracy: 84.2%\n",
      "Test accuracy: 90.4%\n"
     ]
    }
   ],
   "source": [
    "num_steps = 3001\n",
    "\n",
    "with tf.Session(graph=graph) as session:\n",
    "  tf.initialize_all_variables().run()\n",
    "  print(\"Initialized\")\n",
    "  for step in range(num_steps):\n",
    "    # Pick an offset within the training data, which has been randomized.\n",
    "    # Note: we could use better randomization across epochs.\n",
    "    offset = (step * batch_size) % (train_labels.shape[0] - batch_size)\n",
    "    # Generate a minibatch.\n",
    "    batch_data = train_dataset[offset:(offset + batch_size), :]\n",
    "    batch_labels = train_labels[offset:(offset + batch_size), :]\n",
    "    # Prepare a dictionary telling the session where to feed the minibatch.\n",
    "    # The key of the dictionary is the placeholder node of the graph to be fed,\n",
    "    # and the value is the numpy array to feed to it.\n",
    "    feed_dict = {tf_train_dataset : batch_data, tf_train_labels : batch_labels}\n",
    "    _, l, predictions = session.run(\n",
    "      [optimizer, loss, train_prediction], feed_dict=feed_dict)\n",
    "    if (step % 500 == 0):\n",
    "      print(\"Minibatch loss at step %d: %f\" % (step, l))\n",
    "      print(\"Minibatch accuracy: %.1f%%\" % accuracy(predictions, batch_labels))\n",
    "      print(\"Validation accuracy: %.1f%%\" % accuracy(\n",
    "        valid_prediction.eval(), valid_labels))\n",
    "  print(\"Test accuracy: %.1f%%\" % accuracy(test_prediction.eval(), test_labels))"
   ]
  },
  {
   "cell_type": "markdown",
   "metadata": {
    "colab_type": "text",
    "id": "na8xX2yHZzNF"
   },
   "source": [
    "---\n",
    "Problem 2\n",
    "---------\n",
    "Let's demonstrate an extreme case of overfitting. Restrict your training data to just a few batches. What happens?\n",
    "\n",
    "---"
   ]
  },
  {
   "cell_type": "code",
   "execution_count": 9,
   "metadata": {
    "collapsed": false
   },
   "outputs": [
    {
     "name": "stdout",
     "output_type": "stream",
     "text": [
      "Initialized\n",
      "Minibatch loss at step 0: 3427.204102\n",
      "Minibatch accuracy: 10.2%\n",
      "Validation accuracy: 43.9%\n",
      "Minibatch loss at step 500: 21.023222\n",
      "Minibatch accuracy: 100.0%\n",
      "Validation accuracy: 76.5%\n",
      "Minibatch loss at step 1000: 0.490288\n",
      "Minibatch accuracy: 100.0%\n",
      "Validation accuracy: 77.8%\n",
      "Minibatch loss at step 1500: 0.296253\n",
      "Minibatch accuracy: 100.0%\n",
      "Validation accuracy: 77.9%\n",
      "Minibatch loss at step 2000: 0.282688\n",
      "Minibatch accuracy: 100.0%\n",
      "Validation accuracy: 78.0%\n",
      "Minibatch loss at step 2500: 0.275832\n",
      "Minibatch accuracy: 100.0%\n",
      "Validation accuracy: 78.0%\n",
      "Minibatch loss at step 3000: 0.274242\n",
      "Minibatch accuracy: 100.0%\n",
      "Validation accuracy: 78.1%\n",
      "Minibatch loss at step 3500: 0.276674\n",
      "Minibatch accuracy: 100.0%\n",
      "Validation accuracy: 78.1%\n",
      "Minibatch loss at step 4000: 0.276982\n",
      "Minibatch accuracy: 100.0%\n",
      "Validation accuracy: 77.8%\n",
      "Minibatch loss at step 4500: 0.270464\n",
      "Minibatch accuracy: 100.0%\n",
      "Validation accuracy: 77.8%\n",
      "Minibatch loss at step 5000: 0.265913\n",
      "Minibatch accuracy: 100.0%\n",
      "Validation accuracy: 77.8%\n",
      "Test accuracy: 83.8%\n"
     ]
    }
   ],
   "source": [
    "num_steps = 5001\n",
    "\n",
    "sample_train_dataset = train_dataset[:500, :]\n",
    "sample_train_labels = train_labels[:500, :]\n",
    "\n",
    "with tf.Session(graph=graph) as session:\n",
    "  tf.initialize_all_variables().run()\n",
    "  print(\"Initialized\")\n",
    "  for step in range(num_steps):\n",
    "    # Pick an offset within the training data, which has been randomized.\n",
    "    # Note: we could use better randomization across epochs.\n",
    "    offset = (step * batch_size) % (sample_train_labels.shape[0] - batch_size)\n",
    "    # Generate a minibatch.\n",
    "    batch_data = sample_train_dataset[offset:(offset + batch_size), :]\n",
    "    batch_labels = sample_train_labels[offset:(offset + batch_size), :]\n",
    "    # Prepare a dictionary telling the session where to feed the minibatch.\n",
    "    # The key of the dictionary is the placeholder node of the graph to be fed,\n",
    "    # and the value is the numpy array to feed to it.\n",
    "    feed_dict = {tf_train_dataset : batch_data, tf_train_labels : batch_labels}\n",
    "    _, l, predictions = session.run(\n",
    "      [optimizer, loss, train_prediction], feed_dict=feed_dict)\n",
    "    if (step % 500 == 0):\n",
    "      print(\"Minibatch loss at step %d: %f\" % (step, l))\n",
    "      print(\"Minibatch accuracy: %.1f%%\" % accuracy(predictions, batch_labels))\n",
    "      print(\"Validation accuracy: %.1f%%\" % accuracy(\n",
    "        valid_prediction.eval(), valid_labels))\n",
    "  print(\"Test accuracy: %.1f%%\" % accuracy(test_prediction.eval(), test_labels))"
   ]
  },
  {
   "cell_type": "markdown",
   "metadata": {},
   "source": [
    "Restrict training data to 500, results depict an overfitting on training data, with accuracy on training data increasing to 100% while droping on both valid and test data."
   ]
  },
  {
   "cell_type": "markdown",
   "metadata": {
    "colab_type": "text",
    "id": "ww3SCBUdlkRc"
   },
   "source": [
    "---\n",
    "Problem 3\n",
    "---------\n",
    "Introduce Dropout on the hidden layer of the neural network. Remember: Dropout should only be introduced during training, not evaluation, otherwise your evaluation results would be stochastic as well. TensorFlow provides `nn.dropout()` for that, but you have to make sure it's only inserted during training.\n",
    "\n",
    "What happens to our extreme overfitting case?\n",
    "\n",
    "---"
   ]
  },
  {
   "cell_type": "code",
   "execution_count": 10,
   "metadata": {
    "collapsed": false
   },
   "outputs": [],
   "source": [
    "batch_size = 128\n",
    "beta = 0.01\n",
    "\n",
    "def predict_with_dropout(dataset, weights1, biases1, weights2, biases2, keep_prob):\n",
    "  return tf.matmul(\n",
    "    tf.nn.dropout(\n",
    "      tf.nn.relu(tf.matmul(dataset, weights1) + biases1), keep_prob), weights2) + biases2\n",
    "\n",
    "graph = tf.Graph()\n",
    "with graph.as_default():\n",
    "\n",
    "  # Input data. For the training data, we use a placeholder that will be fed\n",
    "  # at run time with a training minibatch.\n",
    "  tf_train_dataset = tf.placeholder(tf.float32,\n",
    "                                    shape=(batch_size, image_size * image_size))\n",
    "  tf_train_labels = tf.placeholder(tf.float32, shape=(batch_size, num_labels))\n",
    "  tf_valid_dataset = tf.constant(valid_dataset)\n",
    "  tf_test_dataset = tf.constant(test_dataset)\n",
    "  \n",
    "  # Variables.\n",
    "  weights1 = tf.Variable(\n",
    "    tf.truncated_normal([image_size * image_size, 1024]))\n",
    "  biases1 = tf.Variable(tf.zeros([1024]))\n",
    "  weights2 = tf.Variable(\n",
    "    tf.truncated_normal([1024, num_labels]))\n",
    "  biases2 = tf.Variable(tf.zeros([num_labels]))\n",
    "  keep_prob = tf.placeholder(tf.float32)\n",
    "  \n",
    "  # Training computation.\n",
    "  logits = predict_with_dropout(tf_train_dataset, weights1, biases1, weights2, biases2, keep_prob)\n",
    "  loss = tf.reduce_mean(\n",
    "        tf.nn.softmax_cross_entropy_with_logits(logits, tf_train_labels)\n",
    "    ) + beta*tf.nn.l2_loss(weights1) + beta*tf.nn.l2_loss(weights2)\n",
    "  \n",
    "  # Optimizer.\n",
    "  optimizer = tf.train.GradientDescentOptimizer(0.5).minimize(loss)\n",
    "  \n",
    "  # Predictions for the training, validation, and test data.\n",
    "  train_prediction = tf.nn.softmax(logits)\n",
    "  valid_prediction = tf.nn.softmax(\n",
    "    predict_with_dropout(tf_valid_dataset, weights1, biases1, weights2, biases2, keep_prob))\n",
    "  test_prediction = tf.nn.softmax(\n",
    "    predict_with_dropout(tf_test_dataset, weights1, biases1, weights2, biases2, keep_prob))"
   ]
  },
  {
   "cell_type": "code",
   "execution_count": 11,
   "metadata": {
    "collapsed": false
   },
   "outputs": [
    {
     "name": "stdout",
     "output_type": "stream",
     "text": [
      "Initialized\n",
      "Minibatch loss at step 0: 3558.818604\n",
      "Minibatch accuracy: 13.3%\n",
      "Validation accuracy: 33.7%\n",
      "Minibatch loss at step 500: 21.174177\n",
      "Minibatch accuracy: 100.0%\n",
      "Validation accuracy: 77.7%\n",
      "Minibatch loss at step 1000: 0.529346\n",
      "Minibatch accuracy: 100.0%\n",
      "Validation accuracy: 78.0%\n",
      "Minibatch loss at step 1500: 0.325641\n",
      "Minibatch accuracy: 100.0%\n",
      "Validation accuracy: 78.2%\n",
      "Minibatch loss at step 2000: 0.320661\n",
      "Minibatch accuracy: 100.0%\n",
      "Validation accuracy: 78.2%\n",
      "Minibatch loss at step 2500: 0.302236\n",
      "Minibatch accuracy: 100.0%\n",
      "Validation accuracy: 78.2%\n",
      "Minibatch loss at step 3000: 0.299860\n",
      "Minibatch accuracy: 100.0%\n",
      "Validation accuracy: 78.2%\n",
      "Minibatch loss at step 3500: 0.304968\n",
      "Minibatch accuracy: 100.0%\n",
      "Validation accuracy: 78.2%\n",
      "Minibatch loss at step 4000: 0.300915\n",
      "Minibatch accuracy: 100.0%\n",
      "Validation accuracy: 78.3%\n",
      "Minibatch loss at step 4500: 0.311114\n",
      "Minibatch accuracy: 99.2%\n",
      "Validation accuracy: 78.5%\n",
      "Minibatch loss at step 5000: 0.286250\n",
      "Minibatch accuracy: 100.0%\n",
      "Validation accuracy: 78.3%\n",
      "Test accuracy: 84.2%\n"
     ]
    }
   ],
   "source": [
    "num_steps = 5001\n",
    "\n",
    "sample_train_dataset = train_dataset[:500, :]\n",
    "sample_train_labels = train_labels[:500, :]\n",
    "\n",
    "with tf.Session(graph=graph) as session:\n",
    "  tf.initialize_all_variables().run()\n",
    "  print(\"Initialized\")\n",
    "  for step in range(num_steps):\n",
    "    # Pick an offset within the training data, which has been randomized.\n",
    "    # Note: we could use better randomization across epochs.\n",
    "    offset = (step * batch_size) % (sample_train_labels.shape[0] - batch_size)\n",
    "    # Generate a minibatch.\n",
    "    batch_data = sample_train_dataset[offset:(offset + batch_size), :]\n",
    "    batch_labels = sample_train_labels[offset:(offset + batch_size), :]\n",
    "    # Prepare a dictionary telling the session where to feed the minibatch.\n",
    "    # The key of the dictionary is the placeholder node of the graph to be fed,\n",
    "    # and the value is the numpy array to feed to it.\n",
    "    feed_dict = {tf_train_dataset : batch_data, tf_train_labels : batch_labels, keep_prob: 0.5}\n",
    "    _, l, predictions = session.run(\n",
    "      [optimizer, loss, train_prediction], feed_dict=feed_dict)\n",
    "    if (step % 500 == 0):\n",
    "      print(\"Minibatch loss at step %d: %f\" % (step, l))\n",
    "      print(\"Minibatch accuracy: %.1f%%\" % accuracy(predictions, batch_labels))\n",
    "      print(\"Validation accuracy: %.1f%%\" % accuracy(\n",
    "        valid_prediction.eval(feed_dict={keep_prob: 1.0}), valid_labels))\n",
    "  print(\"Test accuracy: %.1f%%\" % accuracy(test_prediction.eval(feed_dict={keep_prob: 1.0}), test_labels))"
   ]
  },
  {
   "cell_type": "markdown",
   "metadata": {
    "colab_type": "text",
    "id": "-b1hTz3VWZjw"
   },
   "source": [
    "---\n",
    "Problem 4\n",
    "---------\n",
    "\n",
    "Try to get the best performance you can using a multi-layer model! The best reported test accuracy using a deep network is [97.1%](http://yaroslavvb.blogspot.com/2011/09/notmnist-dataset.html?showComment=1391023266211#c8758720086795711595).\n",
    "\n",
    "One avenue you can explore is to add multiple layers.\n",
    "\n",
    "Another one is to use learning rate decay:\n",
    "\n",
    "    global_step = tf.Variable(0)  # count the number of steps taken.\n",
    "    learning_rate = tf.train.exponential_decay(0.5, global_step, ...)\n",
    "    optimizer = tf.train.GradientDescentOptimizer(learning_rate).minimize(loss, global_step=global_step)\n",
    " \n",
    " ---\n"
   ]
  },
  {
   "cell_type": "markdown",
   "metadata": {},
   "source": [
    "learning rate decay"
   ]
  },
  {
   "cell_type": "code",
   "execution_count": 12,
   "metadata": {
    "collapsed": true
   },
   "outputs": [],
   "source": [
    "batch_size = 128\n",
    "beta = 0.01\n",
    "\n",
    "def predict_with_dropout(dataset, weights1, biases1, weights2, biases2, keep_prob):\n",
    "  return tf.matmul(\n",
    "    tf.nn.dropout(\n",
    "      tf.nn.relu(tf.matmul(dataset, weights1) + biases1), keep_prob), weights2) + biases2\n",
    "\n",
    "graph = tf.Graph()\n",
    "with graph.as_default():\n",
    "\n",
    "  # Input data. For the training data, we use a placeholder that will be fed\n",
    "  # at run time with a training minibatch.\n",
    "  tf_train_dataset = tf.placeholder(tf.float32,\n",
    "                                    shape=(batch_size, image_size * image_size))\n",
    "  tf_train_labels = tf.placeholder(tf.float32, shape=(batch_size, num_labels))\n",
    "  tf_valid_dataset = tf.constant(valid_dataset)\n",
    "  tf_test_dataset = tf.constant(test_dataset)\n",
    "  \n",
    "  # Variables.\n",
    "  weights1 = tf.Variable(\n",
    "    tf.truncated_normal([image_size * image_size, 1024]))\n",
    "  biases1 = tf.Variable(tf.zeros([1024]))\n",
    "  weights2 = tf.Variable(\n",
    "    tf.truncated_normal([1024, num_labels]))\n",
    "  biases2 = tf.Variable(tf.zeros([num_labels]))\n",
    "  keep_prob = tf.placeholder(tf.float32)\n",
    "\n",
    "  # Decay learning rate.\n",
    "  global_step = tf.Variable(0)\n",
    "  starter_learning_rate = 0.5\n",
    "  learning_rate = tf.train.exponential_decay(starter_learning_rate, global_step, 100, 0.8)\n",
    "  \n",
    "  # Training computation.\n",
    "  logits = predict_with_dropout(tf_train_dataset, weights1, biases1, weights2, biases2, keep_prob)\n",
    "  loss = tf.reduce_mean(\n",
    "        tf.nn.softmax_cross_entropy_with_logits(logits, tf_train_labels)\n",
    "    ) + beta*tf.nn.l2_loss(weights1) + beta*tf.nn.l2_loss(weights2)\n",
    "  \n",
    "  # Optimizer.\n",
    "  optimizer = tf.train.GradientDescentOptimizer(learning_rate).minimize(loss, global_step=global_step)\n",
    "  \n",
    "  # Predictions for the training, validation, and test data.\n",
    "  train_prediction = tf.nn.softmax(logits)\n",
    "  valid_prediction = tf.nn.softmax(\n",
    "    predict_with_dropout(tf_valid_dataset, weights1, biases1, weights2, biases2, keep_prob))\n",
    "  test_prediction = tf.nn.softmax(\n",
    "    predict_with_dropout(tf_test_dataset, weights1, biases1, weights2, biases2, keep_prob))"
   ]
  },
  {
   "cell_type": "code",
   "execution_count": 13,
   "metadata": {
    "collapsed": false
   },
   "outputs": [
    {
     "name": "stdout",
     "output_type": "stream",
     "text": [
      "Initialized\n",
      "Minibatch loss at step 0: 3612.699463\n",
      "Minibatch accuracy: 9.4%\n",
      "Validation accuracy: 25.0%\n",
      "Minibatch loss at step 500: 151.965195\n",
      "Minibatch accuracy: 79.7%\n",
      "Validation accuracy: 83.4%\n",
      "Minibatch loss at step 1000: 56.811165\n",
      "Minibatch accuracy: 78.9%\n",
      "Validation accuracy: 84.7%\n",
      "Minibatch loss at step 1500: 41.084522\n",
      "Minibatch accuracy: 85.2%\n",
      "Validation accuracy: 84.9%\n",
      "Minibatch loss at step 2000: 36.955162\n",
      "Minibatch accuracy: 89.1%\n",
      "Validation accuracy: 84.9%\n",
      "Minibatch loss at step 2500: 35.729164\n",
      "Minibatch accuracy: 84.4%\n",
      "Validation accuracy: 84.9%\n",
      "Minibatch loss at step 3000: 35.494759\n",
      "Minibatch accuracy: 80.5%\n",
      "Validation accuracy: 84.9%\n",
      "Minibatch loss at step 3500: 35.325394\n",
      "Minibatch accuracy: 82.8%\n",
      "Validation accuracy: 84.9%\n",
      "Minibatch loss at step 4000: 35.259926\n",
      "Minibatch accuracy: 85.2%\n",
      "Validation accuracy: 84.9%\n",
      "Minibatch loss at step 4500: 35.140572\n",
      "Minibatch accuracy: 85.9%\n",
      "Validation accuracy: 84.9%\n",
      "Minibatch loss at step 5000: 35.227180\n",
      "Minibatch accuracy: 81.2%\n",
      "Validation accuracy: 84.9%\n",
      "Test accuracy: 91.5%\n"
     ]
    }
   ],
   "source": [
    "num_steps = 5001\n",
    "\n",
    "with tf.Session(graph=graph) as session:\n",
    "  tf.initialize_all_variables().run()\n",
    "  print(\"Initialized\")\n",
    "  for step in range(num_steps):\n",
    "    # Pick an offset within the training data, which has been randomized.\n",
    "    # Note: we could use better randomization across epochs.\n",
    "    offset = (step * batch_size) % (train_labels.shape[0] - batch_size)\n",
    "    # Generate a minibatch.\n",
    "    batch_data = train_dataset[offset:(offset + batch_size), :]\n",
    "    batch_labels = train_labels[offset:(offset + batch_size), :]\n",
    "    # Prepare a dictionary telling the session where to feed the minibatch.\n",
    "    # The key of the dictionary is the placeholder node of the graph to be fed,\n",
    "    # and the value is the numpy array to feed to it.\n",
    "    feed_dict = {tf_train_dataset : batch_data, tf_train_labels : batch_labels, keep_prob: 0.5}\n",
    "    _, l, predictions = session.run(\n",
    "      [optimizer, loss, train_prediction], feed_dict=feed_dict)\n",
    "    if (step % 500 == 0):\n",
    "      print(\"Minibatch loss at step %d: %f\" % (step, l))\n",
    "      print(\"Minibatch accuracy: %.1f%%\" % accuracy(predictions, batch_labels))\n",
    "      print(\"Validation accuracy: %.1f%%\" % accuracy(\n",
    "        valid_prediction.eval(feed_dict={keep_prob: 1.0}), valid_labels))\n",
    "  print(\"Test accuracy: %.1f%%\" % accuracy(test_prediction.eval(feed_dict={keep_prob: 1.0}), test_labels))"
   ]
  },
  {
   "cell_type": "markdown",
   "metadata": {},
   "source": [
    "NN structure (784,1024,300,100,10)"
   ]
  },
  {
   "cell_type": "code",
   "execution_count": 14,
   "metadata": {
    "collapsed": false
   },
   "outputs": [],
   "source": [
    "batch_size = 1024\n",
    "beta = 0.005\n",
    "\n",
    "def multilayer_with_dropout(dataset, weights, biases, keep_prob):\n",
    "  weights_index = sorted(weights.keys())\n",
    "  biases_index = sorted(biases.keys())\n",
    "  hidden_layer = dataset\n",
    "  for i in xrange(len(weights_index)-1):\n",
    "    hidden_layer = tf.matmul(hidden_layer, weights[weights_index[i]]) + biases[biases_index[i]]\n",
    "    hidden_layer = tf.nn.dropout(tf.nn.relu(hidden_layer), keep_prob)\n",
    "  # Output layer\n",
    "  return tf.matmul(hidden_layer, weights[weights_index[-1]]) + biases[biases_index[-1]]\n",
    "\n",
    "graph = tf.Graph()\n",
    "with graph.as_default():\n",
    "\n",
    "  # Input data. For the training data, we use a placeholder that will be fed\n",
    "  # at run time with a training minibatch.\n",
    "  tf_train_dataset = tf.placeholder(tf.float32, shape=(batch_size, image_size * image_size))\n",
    "  tf_train_labels = tf.placeholder(tf.float32, shape=(batch_size, num_labels))\n",
    "  tf_valid_dataset = tf.constant(valid_dataset)\n",
    "  tf_test_dataset = tf.constant(test_dataset)\n",
    "  \n",
    "  # Variables.\n",
    "  weights = {\n",
    "    'h1': tf.get_variable('h1', shape=[image_size * image_size, 1024], initializer=tf.contrib.layers.xavier_initializer()),\n",
    "    'h2': tf.get_variable('h2', shape=[1024, 300], initializer=tf.contrib.layers.xavier_initializer()),\n",
    "    'h3': tf.get_variable('h3', shape=[300, 100], initializer=tf.contrib.layers.xavier_initializer()),\n",
    "    'h4': tf.get_variable('h4', shape=[100, num_labels], initializer=tf.contrib.layers.xavier_initializer())\n",
    "  }\n",
    "  biases = {\n",
    "    'b1': tf.Variable(tf.zeros([1024])),\n",
    "    'b2': tf.Variable(tf.zeros([300])),\n",
    "    'b3': tf.Variable(tf.zeros([100])),\n",
    "    'b4': tf.Variable(tf.zeros([num_labels]))\n",
    "  }\n",
    "  keep_prob = tf.placeholder(tf.float32)\n",
    "\n",
    "  # Decay learning rate.\n",
    "  global_step = tf.Variable(0)\n",
    "  starter_learning_rate = 0.5\n",
    "  learning_rate = tf.train.exponential_decay(starter_learning_rate, global_step, 100, 0.8)\n",
    "  \n",
    "  # Training computation.\n",
    "  logits = multilayer_with_dropout(\n",
    "        tf_train_dataset, weights, biases, keep_prob)\n",
    "  loss = tf.reduce_mean(\n",
    "        tf.nn.softmax_cross_entropy_with_logits(logits, tf_train_labels)\n",
    "    ) + beta * sum([tf.nn.l2_loss(weight) for weight in weights.values()])\n",
    "  \n",
    "  # Optimizer.\n",
    "  optimizer = tf.train.GradientDescentOptimizer(learning_rate).minimize(loss, global_step=global_step)\n",
    "  \n",
    "  # Predictions for the training, validation, and test data.\n",
    "  train_prediction = tf.nn.softmax(logits)\n",
    "  valid_prediction = tf.nn.softmax(\n",
    "    multilayer_with_dropout(tf_valid_dataset, weights, biases, keep_prob))\n",
    "  test_prediction = tf.nn.softmax(\n",
    "    multilayer_with_dropout(tf_test_dataset, weights, biases, keep_prob))"
   ]
  },
  {
   "cell_type": "code",
   "execution_count": 15,
   "metadata": {
    "collapsed": false
   },
   "outputs": [
    {
     "name": "stdout",
     "output_type": "stream",
     "text": [
      "Initialized\n",
      "Minibatch loss at step 0: 6.439913\n",
      "Minibatch accuracy: 11.1%\n",
      "Validation accuracy: 28.8%\n",
      "Minibatch loss at step 500: 1.546499\n",
      "Minibatch accuracy: 83.7%\n",
      "Validation accuracy: 85.5%\n",
      "Minibatch loss at step 1000: 1.130589\n",
      "Minibatch accuracy: 86.0%\n",
      "Validation accuracy: 86.1%\n",
      "Minibatch loss at step 1500: 1.098950\n",
      "Minibatch accuracy: 85.3%\n",
      "Validation accuracy: 86.2%\n",
      "Minibatch loss at step 2000: 1.090904\n",
      "Minibatch accuracy: 85.4%\n",
      "Validation accuracy: 86.3%\n",
      "Minibatch loss at step 2500: 1.072868\n",
      "Minibatch accuracy: 85.5%\n",
      "Validation accuracy: 86.3%\n",
      "Minibatch loss at step 3000: 1.036531\n",
      "Minibatch accuracy: 85.7%\n",
      "Validation accuracy: 86.3%\n",
      "Minibatch loss at step 3500: 1.063382\n",
      "Minibatch accuracy: 84.5%\n",
      "Validation accuracy: 86.3%\n",
      "Minibatch loss at step 4000: 1.072132\n",
      "Minibatch accuracy: 85.1%\n",
      "Validation accuracy: 86.3%\n",
      "Minibatch loss at step 4500: 1.135489\n",
      "Minibatch accuracy: 83.0%\n",
      "Validation accuracy: 86.3%\n",
      "Minibatch loss at step 5000: 1.034248\n",
      "Minibatch accuracy: 86.3%\n",
      "Validation accuracy: 86.3%\n",
      "Test accuracy: 92.2%\n"
     ]
    }
   ],
   "source": [
    "num_steps = 5001\n",
    "\n",
    "with tf.Session(graph=graph) as session:\n",
    "  tf.initialize_all_variables().run()\n",
    "  print(\"Initialized\")\n",
    "  for step in range(num_steps):\n",
    "    # Pick an offset within the training data, which has been randomized.\n",
    "    # Note: we could use better randomization across epochs.\n",
    "    offset = (step * batch_size) % (train_labels.shape[0] - batch_size)\n",
    "    # Generate a minibatch.\n",
    "    batch_data = train_dataset[offset:(offset + batch_size), :]\n",
    "    batch_labels = train_labels[offset:(offset + batch_size), :]\n",
    "    # Prepare a dictionary telling the session where to feed the minibatch.\n",
    "    # The key of the dictionary is the placeholder node of the graph to be fed,\n",
    "    # and the value is the numpy array to feed to it.\n",
    "    feed_dict = {tf_train_dataset : batch_data, tf_train_labels : batch_labels, keep_prob: 0.5}\n",
    "    _, l, predictions = session.run(\n",
    "      [optimizer, loss, train_prediction], feed_dict=feed_dict)\n",
    "    if (step % 500 == 0):\n",
    "      print(\"Minibatch loss at step %d: %f\" % (step, l))\n",
    "      print(\"Minibatch accuracy: %.1f%%\" % accuracy(predictions, batch_labels))\n",
    "      print(\"Validation accuracy: %.1f%%\" % accuracy(\n",
    "        valid_prediction.eval(feed_dict={keep_prob: 1.0}), valid_labels))\n",
    "  print(\"Test accuracy: %.1f%%\" % accuracy(test_prediction.eval(feed_dict={keep_prob: 1.0}), test_labels))"
   ]
  }
 ],
 "metadata": {
  "colab": {
   "default_view": {},
   "name": "3_regularization.ipynb",
   "provenance": [],
   "version": "0.3.2",
   "views": {}
  },
  "kernelspec": {
   "display_name": "Python 2",
   "language": "python",
   "name": "python2"
  },
  "language_info": {
   "codemirror_mode": {
    "name": "ipython",
    "version": 2
   },
   "file_extension": ".py",
   "mimetype": "text/x-python",
   "name": "python",
   "nbconvert_exporter": "python",
   "pygments_lexer": "ipython2",
   "version": "2.7.6"
  }
 },
 "nbformat": 4,
 "nbformat_minor": 0
}
